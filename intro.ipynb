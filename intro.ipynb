{
  "nbformat": 4,
  "nbformat_minor": 0,
  "metadata": {
    "colab": {
      "name": "intro.ipynb",
      "version": "0.3.2",
      "provenance": [],
      "collapsed_sections": [],
      "include_colab_link": true
    },
    "kernelspec": {
      "name": "python3",
      "display_name": "Python 3"
    }
  },
  "cells": [
    {
      "cell_type": "markdown",
      "metadata": {
        "id": "view-in-github",
        "colab_type": "text"
      },
      "source": [
        "[View in Colaboratory](https://colab.research.google.com/github/claudfernandes/python-data-analysis/blob/master/intro.ipynb)"
      ]
    },
    {
      "metadata": {
        "id": "Zd47jW2kXAiJ",
        "colab_type": "code",
        "colab": {
          "base_uri": "https://localhost:8080/",
          "height": 476
        },
        "outputId": "9d668a5b-65ce-4814-8c29-6268e656da21"
      },
      "cell_type": "code",
      "source": [
        "!pip install pandas\n",
        "!pip install pandas_datareader\n",
        "!pip install matplotlib"
      ],
      "execution_count": 23,
      "outputs": [
        {
          "output_type": "stream",
          "text": [
            "Requirement already satisfied: pandas in /usr/local/lib/python3.6/dist-packages (0.22.0)\r\n",
            "Requirement already satisfied: numpy>=1.9.0 in /usr/local/lib/python3.6/dist-packages (from pandas) (1.14.5)\r\n",
            "Requirement already satisfied: python-dateutil>=2 in /usr/local/lib/python3.6/dist-packages (from pandas) (2.5.3)\r\n",
            "Requirement already satisfied: pytz>=2011k in /usr/local/lib/python3.6/dist-packages (from pandas) (2018.5)\r\n",
            "Requirement already satisfied: six>=1.5 in /usr/local/lib/python3.6/dist-packages (from python-dateutil>=2->pandas) (1.11.0)\n",
            "Requirement already satisfied: pandas_datareader in /usr/local/lib/python3.6/dist-packages (0.6.0)\n",
            "Requirement already satisfied: requests-file in /usr/local/lib/python3.6/dist-packages (from pandas_datareader) (1.4.3)\n",
            "Requirement already satisfied: pandas>=0.19.2 in /usr/local/lib/python3.6/dist-packages (from pandas_datareader) (0.22.0)\n",
            "Requirement already satisfied: wrapt in /usr/local/lib/python3.6/dist-packages (from pandas_datareader) (1.10.11)\n",
            "Requirement already satisfied: lxml in /usr/local/lib/python3.6/dist-packages (from pandas_datareader) (4.2.3)\n",
            "Requirement already satisfied: requests-ftp in /usr/local/lib/python3.6/dist-packages (from pandas_datareader) (0.3.1)\n",
            "Requirement already satisfied: requests>=2.3.0 in /usr/local/lib/python3.6/dist-packages (from pandas_datareader) (2.18.4)\n",
            "Requirement already satisfied: six in /usr/local/lib/python3.6/dist-packages (from requests-file->pandas_datareader) (1.11.0)\n",
            "Requirement already satisfied: numpy>=1.9.0 in /usr/local/lib/python3.6/dist-packages (from pandas>=0.19.2->pandas_datareader) (1.14.5)\n",
            "Requirement already satisfied: pytz>=2011k in /usr/local/lib/python3.6/dist-packages (from pandas>=0.19.2->pandas_datareader) (2018.5)\n",
            "Requirement already satisfied: python-dateutil>=2 in /usr/local/lib/python3.6/dist-packages (from pandas>=0.19.2->pandas_datareader) (2.5.3)\n",
            "Requirement already satisfied: certifi>=2017.4.17 in /usr/local/lib/python3.6/dist-packages (from requests>=2.3.0->pandas_datareader) (2018.4.16)\n",
            "Requirement already satisfied: chardet<3.1.0,>=3.0.2 in /usr/local/lib/python3.6/dist-packages (from requests>=2.3.0->pandas_datareader) (3.0.4)\n",
            "Requirement already satisfied: urllib3<1.23,>=1.21.1 in /usr/local/lib/python3.6/dist-packages (from requests>=2.3.0->pandas_datareader) (1.22)\n",
            "Requirement already satisfied: idna<2.7,>=2.5 in /usr/local/lib/python3.6/dist-packages (from requests>=2.3.0->pandas_datareader) (2.6)\n",
            "Requirement already satisfied: matplotlib in /usr/local/lib/python3.6/dist-packages (2.1.2)\n",
            "Requirement already satisfied: six>=1.10 in /usr/local/lib/python3.6/dist-packages (from matplotlib) (1.11.0)\n",
            "Requirement already satisfied: numpy>=1.7.1 in /usr/local/lib/python3.6/dist-packages (from matplotlib) (1.14.5)\n",
            "Requirement already satisfied: cycler>=0.10 in /usr/local/lib/python3.6/dist-packages (from matplotlib) (0.10.0)\n",
            "Requirement already satisfied: pytz in /usr/local/lib/python3.6/dist-packages (from matplotlib) (2018.5)\n",
            "Requirement already satisfied: pyparsing!=2.0.4,!=2.1.2,!=2.1.6,>=2.0.1 in /usr/local/lib/python3.6/dist-packages (from matplotlib) (2.2.0)\n",
            "Requirement already satisfied: python-dateutil>=2.1 in /usr/local/lib/python3.6/dist-packages (from matplotlib) (2.5.3)\n"
          ],
          "name": "stdout"
        }
      ]
    },
    {
      "metadata": {
        "id": "UvXDzESFVd8C",
        "colab_type": "code",
        "colab": {}
      },
      "cell_type": "code",
      "source": [
        "import pandas as pd\n",
        "import datetime\n",
        "import pandas_datareader.data as web\n",
        "import matplotlib.pyplot as plt\n",
        "from matplotlib import style"
      ],
      "execution_count": 0,
      "outputs": []
    },
    {
      "metadata": {
        "id": "yLh0kwDsXKsN",
        "colab_type": "code",
        "colab": {}
      },
      "cell_type": "code",
      "source": [
        "start = datetime.datetime(2010, 1, 1)\n",
        "end = datetime.datetime.now()"
      ],
      "execution_count": 0,
      "outputs": []
    },
    {
      "metadata": {
        "id": "xhu0_HwuX9--",
        "colab_type": "text"
      },
      "cell_type": "markdown",
      "source": [
        "Note: DataReader - from pandas_datareader.data and pandas_datareader.wb extract data from various Internet sources into a pandas DataFrame"
      ]
    },
    {
      "metadata": {
        "id": "4nrHQRnqXgFR",
        "colab_type": "code",
        "colab": {}
      },
      "cell_type": "code",
      "source": [
        "df = web.DataReader(\"XOM\", \"morningstar\", start, end)"
      ],
      "execution_count": 0,
      "outputs": []
    },
    {
      "metadata": {
        "id": "Ta5JPmccXiLO",
        "colab_type": "code",
        "colab": {
          "base_uri": "https://localhost:8080/",
          "height": 1122
        },
        "outputId": "600558ff-90d2-478d-e624-52f48a93b42d"
      },
      "cell_type": "code",
      "source": [
        "print(df)"
      ],
      "execution_count": 16,
      "outputs": [
        {
          "output_type": "stream",
          "text": [
            "                   Close     High      Low   Open    Volume\n",
            "Symbol Date                                                \n",
            "XOM    2010-01-01  68.19  68.8600  68.1100  68.84         0\n",
            "       2010-01-04  69.15  69.2600  68.1900  68.72  27811317\n",
            "       2010-01-05  69.42  69.4500  68.8000  69.19  30178588\n",
            "       2010-01-06  70.02  70.6000  69.3400  69.45  35047453\n",
            "       2010-01-07  69.80  70.0600  69.4150  69.90  27194133\n",
            "       2010-01-08  69.52  69.7500  69.2200  69.69  24899483\n",
            "       2010-01-11  70.30  70.5200  69.6500  69.94  30684918\n",
            "       2010-01-12  69.95  69.9900  69.5200  69.72  31497632\n",
            "       2010-01-13  69.67  70.0400  69.2600  69.96  24884989\n",
            "       2010-01-14  69.68  69.7400  69.3500  69.54  18637842\n",
            "       2010-01-15  69.11  69.6900  68.6500  69.65  29412819\n",
            "       2010-01-18  69.11  69.6900  68.6500  69.65         0\n",
            "       2010-01-19  69.27  69.3500  68.4200  68.74  26088332\n",
            "       2010-01-20  68.03  68.6600  67.9325  68.56  34630618\n",
            "       2010-01-21  66.70  68.1500  66.5000  68.12  39118683\n",
            "       2010-01-22  66.10  67.1400  66.0000  66.52  39088370\n",
            "       2010-01-25  65.85  66.7600  65.6900  66.55  29305091\n",
            "       2010-01-26  65.92  66.7400  65.5000  65.64  34084385\n",
            "       2010-01-27  65.54  66.0600  65.0000  65.66  35726238\n",
            "       2010-01-28  64.96  65.8500  64.5700  65.85  37364541\n",
            "       2010-01-29  64.43  65.8200  64.0200  65.15  40880436\n",
            "       2010-02-01  66.18  66.4100  65.3500  65.77  37702998\n",
            "       2010-02-02  66.96  67.1200  66.4700  66.73  34063219\n",
            "       2010-02-03  66.60  67.2300  66.5600  66.88  24024762\n",
            "       2010-02-04  64.72  66.3500  64.6800  66.27  33866320\n",
            "       2010-02-05  64.80  64.9000  63.5600  64.70  42300718\n",
            "       2010-02-08  64.35  65.4900  64.3400  64.91  30520990\n",
            "       2010-02-09  65.20  65.7100  64.5600  65.11  36245594\n",
            "       2010-02-10  64.85  65.2200  64.1600  65.08  21701648\n",
            "       2010-02-11  65.24  65.4800  64.4100  64.69  23559461\n",
            "...                  ...      ...      ...    ...       ...\n",
            "       2018-06-05  80.68  81.6500  80.4100  80.59  12059328\n",
            "       2018-06-06  82.06  82.0900  80.8700  81.48  11603278\n",
            "       2018-06-07  82.88  83.2900  82.5600  82.73  13502457\n",
            "       2018-06-08  83.60  83.6600  82.5000  83.11  14350376\n",
            "       2018-06-11  83.10  83.7900  82.9300  83.72  10831599\n",
            "       2018-06-12  82.42  83.7500  82.3200  83.11  12351787\n",
            "       2018-06-13  81.51  82.6000  81.4700  82.44  12049278\n",
            "       2018-06-14  81.89  82.2999  81.5000  81.94  11477252\n",
            "       2018-06-15  80.66  81.8200  80.5100  81.72  23797456\n",
            "       2018-06-18  80.82  81.3800  80.3000  80.40   9192567\n",
            "       2018-06-19  80.70  80.9601  79.7100  79.89   8759708\n",
            "       2018-06-20  80.45  81.1300  80.2700  80.85   8917708\n",
            "       2018-06-21  79.69  80.3800  79.3250  80.02  10990663\n",
            "       2018-06-22  81.38  81.9401  80.9200  81.16  16707363\n",
            "       2018-06-25  79.74  81.2400  79.3000  80.78  10557249\n",
            "       2018-06-26  80.64  81.0146  79.9700  80.15  10382781\n",
            "       2018-06-27  81.71  82.4800  81.0600  81.06  12725864\n",
            "       2018-06-28  81.97  82.0700  81.0300  81.73   9390654\n",
            "       2018-06-29  82.73  83.5400  82.2900  82.45  17323207\n",
            "       2018-07-02  81.76  82.1300  81.3200  81.89   9998318\n",
            "       2018-07-03  82.24  83.4500  82.0800  82.58   7197258\n",
            "       2018-07-04  82.24  82.2400  82.2400  82.24         0\n",
            "       2018-07-05  82.31  82.7700  82.0500  82.59   9035873\n",
            "       2018-07-06  82.33  82.7000  81.6600  81.96   7637116\n",
            "       2018-07-09  82.90  83.1250  82.5550  82.81   7158596\n",
            "       2018-07-10  83.66  84.1200  83.5100  83.70   8806167\n",
            "       2018-07-11  82.59  83.5300  82.0250  83.03  10405268\n",
            "       2018-07-12  82.69  83.2400  82.3100  83.01   9762532\n",
            "       2018-07-13  83.31  83.7500  82.5600  82.68   8721525\n",
            "       2018-07-16  82.49  82.7900  82.0000  82.52   8307109\n",
            "\n",
            "[2227 rows x 5 columns]\n"
          ],
          "name": "stdout"
        }
      ]
    },
    {
      "metadata": {
        "id": "e0tb3VQNXker",
        "colab_type": "code",
        "colab": {
          "base_uri": "https://localhost:8080/",
          "height": 136
        },
        "outputId": "a1306d52-d33d-49eb-df73-7a12100b91cf"
      },
      "cell_type": "code",
      "source": [
        "print(df.head())"
      ],
      "execution_count": 17,
      "outputs": [
        {
          "output_type": "stream",
          "text": [
            "                   Close   High     Low   Open    Volume\n",
            "Symbol Date                                             \n",
            "XOM    2010-01-01  68.19  68.86  68.110  68.84         0\n",
            "       2010-01-04  69.15  69.26  68.190  68.72  27811317\n",
            "       2010-01-05  69.42  69.45  68.800  69.19  30178588\n",
            "       2010-01-06  70.02  70.60  69.340  69.45  35047453\n",
            "       2010-01-07  69.80  70.06  69.415  69.90  27194133\n"
          ],
          "name": "stdout"
        }
      ]
    },
    {
      "metadata": {
        "id": "Vq8sfpUeYyD2",
        "colab_type": "text"
      },
      "cell_type": "markdown",
      "source": [
        "Remove the column Symbol"
      ]
    },
    {
      "metadata": {
        "id": "p8lT35fAYSsy",
        "colab_type": "code",
        "colab": {
          "base_uri": "https://localhost:8080/",
          "height": 136
        },
        "outputId": "da767c43-aa45-4d40-bd03-97a11fbe26cb"
      },
      "cell_type": "code",
      "source": [
        "df.reset_index(inplace=True)\n",
        "df.set_index(\"Date\", inplace=True)\n",
        "df = df.drop(\"Symbol\", axis=1)\n",
        "\n",
        "print(df.head())"
      ],
      "execution_count": 21,
      "outputs": [
        {
          "output_type": "stream",
          "text": [
            "            Close   High     Low   Open    Volume\n",
            "Date                                             \n",
            "2010-01-01  68.19  68.86  68.110  68.84         0\n",
            "2010-01-04  69.15  69.26  68.190  68.72  27811317\n",
            "2010-01-05  69.42  69.45  68.800  69.19  30178588\n",
            "2010-01-06  70.02  70.60  69.340  69.45  35047453\n",
            "2010-01-07  69.80  70.06  69.415  69.90  27194133\n"
          ],
          "name": "stdout"
        }
      ]
    },
    {
      "metadata": {
        "id": "Wlk2b0EnY5z5",
        "colab_type": "code",
        "colab": {
          "base_uri": "https://localhost:8080/",
          "height": 388
        },
        "outputId": "65ba800a-f799-45cb-b9e7-080d1863a92f"
      },
      "cell_type": "code",
      "source": [
        "\n",
        "style.use('fivethirtyeight')\n",
        "df['High'].plot()\n",
        "plt.legend()\n",
        "plt.show()"
      ],
      "execution_count": 31,
      "outputs": [
        {
          "output_type": "display_data",
          "data": {
            "image/png": "[encoded data removed]",
            "text/plain": [
              "<matplotlib.figure.Figure at 0x7f4c79915160>"
            ]
          },
          "metadata": {
            "tags": []
          }
        }
      ]
    },
    {
      "metadata": {
        "id": "dz_g2vr1Z4qa",
        "colab_type": "code",
        "colab": {}
      },
      "cell_type": "code",
      "source": [
        ""
      ],
      "execution_count": 0,
      "outputs": []
    }
  ]
}